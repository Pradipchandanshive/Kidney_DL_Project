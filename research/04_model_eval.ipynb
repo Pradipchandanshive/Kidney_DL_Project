{
 "cells": [
  {
   "cell_type": "code",
   "execution_count": 1,
   "id": "dd4ac3f2",
   "metadata": {},
   "outputs": [],
   "source": [
    "import os \n"
   ]
  },
  {
   "cell_type": "code",
   "execution_count": 2,
   "id": "238de1f1",
   "metadata": {},
   "outputs": [
    {
     "data": {
      "text/plain": [
       "'c:\\\\MyDLProject\\\\Kidney_DL_Project\\\\research'"
      ]
     },
     "execution_count": 2,
     "metadata": {},
     "output_type": "execute_result"
    }
   ],
   "source": [
    "%pwd"
   ]
  },
  {
   "cell_type": "code",
   "execution_count": 3,
   "id": "f27043ea",
   "metadata": {},
   "outputs": [],
   "source": [
    "os.chdir('../')"
   ]
  },
  {
   "cell_type": "code",
   "execution_count": 4,
   "id": "53553609",
   "metadata": {},
   "outputs": [
    {
     "data": {
      "text/plain": [
       "'c:\\\\MyDLProject\\\\Kidney_DL_Project'"
      ]
     },
     "execution_count": 4,
     "metadata": {},
     "output_type": "execute_result"
    }
   ],
   "source": [
    "%pwd"
   ]
  },
  {
   "cell_type": "code",
   "execution_count": 5,
   "id": "596473c2",
   "metadata": {},
   "outputs": [],
   "source": [
    "### entity "
   ]
  },
  {
   "cell_type": "code",
   "execution_count": 6,
   "id": "9d5b9d4f",
   "metadata": {},
   "outputs": [],
   "source": [
    "from dataclasses import dataclass\n",
    "from pathlib import Path\n",
    "\n",
    "@dataclass(frozen=True)\n",
    "class EvaluationConfig:\n",
    "    path_of_model: Path\n",
    "    training_data: Path\n",
    "    all_params: dict\n",
    "    mlflow_uri: str\n",
    "    params_image_size: list\n",
    "    params_batch_size: int"
   ]
  },
  {
   "cell_type": "code",
   "execution_count": 7,
   "id": "4caee7ac",
   "metadata": {},
   "outputs": [],
   "source": [
    "### config manager "
   ]
  },
  {
   "cell_type": "code",
   "execution_count": null,
   "id": "cb643069",
   "metadata": {},
   "outputs": [],
   "source": []
  },
  {
   "cell_type": "code",
   "execution_count": 8,
   "id": "8231d021",
   "metadata": {},
   "outputs": [
    {
     "name": "stderr",
     "output_type": "stream",
     "text": [
      "c:\\Users\\Dell\\anaconda3\\envs\\kidney\\Lib\\site-packages\\mlflow\\protos\\service_pb2.py:11: UserWarning: google.protobuf.service module is deprecated. RPC implementations should provide code generator plugins which generate code specific to the RPC implementation. service.py will be removed in Jan 2025\n",
      "  from google.protobuf import service as _service\n"
     ]
    }
   ],
   "source": [
    "import mlflow\n",
    "import os\n",
    "\n",
    "# Set MLflow tracking URI\n",
    "mlflow.set_tracking_uri(\"https://dagshub.com/Pradipchandanshive/Kidney_DL_Project.mlflow\")\n",
    "\n",
    "# Set your DagsHub credentials (MLflow uses HTTP Basic Auth)\n",
    "os.environ[\"MLFLOW_TRACKING_USERNAME\"] = \"PradipChandanshive\"\n",
    "os.environ[\"MLFLOW_TRACKING_PASSWORD\"] = \"fd872e30a5f152a078820e8a236b9d00765a27fa\""
   ]
  },
  {
   "cell_type": "code",
   "execution_count": 9,
   "id": "d5a42ee1",
   "metadata": {},
   "outputs": [
    {
     "name": "stderr",
     "output_type": "stream",
     "text": [
      "WARNING:absl:Compiled the loaded model, but the compiled metrics have yet to be built. `model.compile_metrics` will be empty until you train or evaluate the model.\n"
     ]
    }
   ],
   "source": [
    "import tensorflow as tf\n",
    "model = tf.keras.models.load_model(\"artifacts/training/model.h5\")"
   ]
  },
  {
   "cell_type": "code",
   "execution_count": 10,
   "id": "b3296e43",
   "metadata": {},
   "outputs": [],
   "source": [
    "### config manager "
   ]
  },
  {
   "cell_type": "code",
   "execution_count": 11,
   "id": "d3a6a4eb",
   "metadata": {},
   "outputs": [],
   "source": [
    "from src.cnnClassifier.constants import *\n",
    "\n",
    "from src.cnnClassifier.utils.common import read_yaml,create_directories,save_json\n",
    "\n",
    "\n",
    "class ConfigurationManager:\n",
    "    def __init__(\n",
    "        self, \n",
    "        config_filepath = CONFIG_FILE_PATH,\n",
    "        params_filepath = PARAMS_FILE_PATH):\n",
    "        self.config = read_yaml(config_filepath)\n",
    "        self.params = read_yaml(params_filepath)\n",
    "        create_directories([self.config.artifacts_root])\n",
    "\n",
    "    \n",
    "    def get_evaluation_config(self) -> EvaluationConfig:\n",
    "        eval_config = EvaluationConfig(\n",
    "            path_of_model=\"artifacts/training/model.h5\",\n",
    "            training_data=\"artifacts/data_ingestion/kidney-ct-scan-image\",\n",
    "            mlflow_uri=\"https://dagshub.com/Pradipchandanshive/Kidney_DL_Project.mlflow\",\n",
    "            all_params=self.params,\n",
    "            params_image_size=self.params.IMAGE_SIZE,\n",
    "            params_batch_size=self.params.BATCH_SIZE\n",
    "        )\n",
    "        return eval_config"
   ]
  },
  {
   "cell_type": "code",
   "execution_count": 12,
   "id": "74f8dd98",
   "metadata": {},
   "outputs": [],
   "source": [
    "import tensorflow as tf\n",
    "from pathlib import Path\n",
    "import mlflow\n",
    "import mlflow.keras\n",
    "from urllib.parse import urlparse\n",
    "\n",
    "\n",
    "class Evaluation:\n",
    "    def __init__(self, config: EvaluationConfig):\n",
    "        self.config = config\n",
    "\n",
    "    \n",
    "    def _valid_generator(self):\n",
    "\n",
    "        datagenerator_kwargs = dict(\n",
    "            rescale = 1./255,\n",
    "            validation_split=0.30\n",
    "        )\n",
    "\n",
    "        dataflow_kwargs = dict(\n",
    "            target_size=self.config.params_image_size[:-1],\n",
    "            batch_size=self.config.params_batch_size,\n",
    "            interpolation=\"bilinear\"\n",
    "        )\n",
    "\n",
    "        valid_datagenerator = tf.keras.preprocessing.image.ImageDataGenerator(\n",
    "            **datagenerator_kwargs\n",
    "        )\n",
    "\n",
    "        self.valid_generator = valid_datagenerator.flow_from_directory(\n",
    "            directory=self.config.training_data,\n",
    "            subset=\"validation\",\n",
    "            shuffle=False,\n",
    "            **dataflow_kwargs\n",
    "        )\n",
    "\n",
    "\n",
    "    @staticmethod\n",
    "    def load_model(path: Path) -> tf.keras.Model:\n",
    "        return tf.keras.models.load_model(path)\n",
    "    \n",
    "\n",
    "    def evaluation(self):\n",
    "        self.model = self.load_model(self.config.path_of_model)\n",
    "        self._valid_generator()\n",
    "        if len(self.valid_generator) > 0:\n",
    "            self.score = self.model.evaluate(self.valid_generator)\n",
    "        else:\n",
    "            print(\"Validation generator is empty.\")\n",
    "\n",
    "        self.score = self.model.evaluate(self.valid_generator)\n",
    "        self.save_score()\n",
    "\n",
    "    def save_score(self):\n",
    "        scores = {\"loss\": self.score[0], \"accuracy\": self.score[1]}\n",
    "        save_json(path=Path(\"scores.json\"), data=scores)\n",
    "\n",
    "    \n",
    "    def log_into_mlflow(self):\n",
    "        mlflow.set_registry_uri(self.config.mlflow_uri)\n",
    "        tracking_url_type_store = urlparse(mlflow.get_tracking_uri()).scheme\n",
    "        print(\"MLflow URI:\", mlflow.get_tracking_uri())\n",
    "        print(\"MLflow Experiment:\", mlflow.get_experiment_by_name(\"your_experiment_name\"))\n",
    "        print(\"Active run:\", mlflow.active_run())\n",
    "        with mlflow.start_run():\n",
    "            mlflow.log_params(self.config.all_params)\n",
    "            mlflow.log_metrics(\n",
    "                {\"loss\": self.score[0], \"accuracy\": self.score[1]}\n",
    "            )\n",
    "            # Model registry does not work with file store\n",
    "            if tracking_url_type_store != \"file\":\n",
    "\n",
    "                # Register the model\n",
    "                # There are other ways to use the Model Registry, which depends on the use case,\n",
    "                # please refer to the doc for more information:\n",
    "                # https://mlflow.org/docs/latest/model-registry.html#api-workflow\n",
    "                mlflow.keras.log_model(self.model, \"model\", registered_model_name=\"VGG16Model\")\n",
    "            else:\n",
    "                mlflow.keras.log_model(self.model, \"model\")"
   ]
  },
  {
   "cell_type": "code",
   "execution_count": 13,
   "id": "9cbda05a",
   "metadata": {},
   "outputs": [
    {
     "name": "stderr",
     "output_type": "stream",
     "text": [
      "WARNING:absl:Compiled the loaded model, but the compiled metrics have yet to be built. `model.compile_metrics` will be empty until you train or evaluate the model.\n"
     ]
    },
    {
     "name": "stdout",
     "output_type": "stream",
     "text": [
      "Found 139 images belonging to 2 classes.\n"
     ]
    },
    {
     "name": "stderr",
     "output_type": "stream",
     "text": [
      "c:\\Users\\Dell\\anaconda3\\envs\\kidney\\Lib\\site-packages\\keras\\src\\trainers\\data_adapters\\py_dataset_adapter.py:121: UserWarning: Your `PyDataset` class should call `super().__init__(**kwargs)` in its constructor. `**kwargs` can include `workers`, `use_multiprocessing`, `max_queue_size`. Do not pass these arguments to `fit()`, as they will be ignored.\n",
      "  self._warn_if_super_not_called()\n"
     ]
    },
    {
     "name": "stdout",
     "output_type": "stream",
     "text": [
      "\u001b[1m9/9\u001b[0m \u001b[32m━━━━━━━━━━━━━━━━━━━━\u001b[0m\u001b[37m\u001b[0m \u001b[1m40s\u001b[0m 4s/step - accuracy: 0.3158 - loss: 2.4503\n",
      "\u001b[1m9/9\u001b[0m \u001b[32m━━━━━━━━━━━━━━━━━━━━\u001b[0m\u001b[37m\u001b[0m \u001b[1m38s\u001b[0m 4s/step - accuracy: 0.3158 - loss: 2.4503\n",
      "MLflow URI: https://dagshub.com/Pradipchandanshive/Kidney_DL_Project.mlflow\n",
      "MLflow Experiment: None\n",
      "Active run: None\n"
     ]
    },
    {
     "name": "stderr",
     "output_type": "stream",
     "text": [
      "2025/05/12 16:58:42 WARNING mlflow.keras.save: You are saving a Keras model without specifying model signature.\n",
      "Successfully registered model 'VGG16Model'.\n",
      "2025/05/12 16:59:42 INFO mlflow.store.model_registry.abstract_store: Waiting up to 300 seconds for model version to finish creation. Model name: VGG16Model, version 1\n",
      "Created version '1' of model 'VGG16Model'.\n"
     ]
    }
   ],
   "source": [
    "try:\n",
    "    config = ConfigurationManager()\n",
    "    eval_config = config.get_evaluation_config()\n",
    "    evaluation = Evaluation(eval_config)\n",
    "    evaluation.evaluation()\n",
    "    evaluation.log_into_mlflow()\n",
    "except Exception as e:\n",
    "    raise e"
   ]
  },
  {
   "cell_type": "code",
   "execution_count": 14,
   "id": "1b4ca0d5",
   "metadata": {},
   "outputs": [
    {
     "name": "stdout",
     "output_type": "stream",
     "text": [
      "Requirement already satisfied: dvc in c:\\users\\dell\\anaconda3\\envs\\kidney\\lib\\site-packages (3.59.1)\n",
      "Requirement already satisfied: attrs>=22.2.0 in c:\\users\\dell\\anaconda3\\envs\\kidney\\lib\\site-packages (from dvc) (25.3.0)\n",
      "Requirement already satisfied: celery in c:\\users\\dell\\anaconda3\\envs\\kidney\\lib\\site-packages (from dvc) (5.5.2)\n",
      "Requirement already satisfied: colorama>=0.3.9 in c:\\users\\dell\\anaconda3\\envs\\kidney\\lib\\site-packages (from dvc) (0.4.6)\n",
      "Requirement already satisfied: configobj>=5.0.9 in c:\\users\\dell\\anaconda3\\envs\\kidney\\lib\\site-packages (from dvc) (5.0.9)\n",
      "Requirement already satisfied: distro>=1.3 in c:\\users\\dell\\anaconda3\\envs\\kidney\\lib\\site-packages (from dvc) (1.9.0)\n",
      "Requirement already satisfied: dpath<3,>=2.1.0 in c:\\users\\dell\\anaconda3\\envs\\kidney\\lib\\site-packages (from dvc) (2.2.0)\n",
      "Requirement already satisfied: dulwich in c:\\users\\dell\\anaconda3\\envs\\kidney\\lib\\site-packages (from dvc) (0.22.8)\n",
      "Requirement already satisfied: dvc-data<3.17,>=3.16.2 in c:\\users\\dell\\anaconda3\\envs\\kidney\\lib\\site-packages (from dvc) (3.16.10)\n",
      "Requirement already satisfied: dvc-http>=2.29.0 in c:\\users\\dell\\anaconda3\\envs\\kidney\\lib\\site-packages (from dvc) (2.32.0)\n",
      "Requirement already satisfied: dvc-objects in c:\\users\\dell\\anaconda3\\envs\\kidney\\lib\\site-packages (from dvc) (5.1.0)\n",
      "Requirement already satisfied: dvc-render<2,>=1.0.1 in c:\\users\\dell\\anaconda3\\envs\\kidney\\lib\\site-packages (from dvc) (1.0.2)\n",
      "Requirement already satisfied: dvc-studio-client<1,>=0.21 in c:\\users\\dell\\anaconda3\\envs\\kidney\\lib\\site-packages (from dvc) (0.21.0)\n",
      "Requirement already satisfied: dvc-task<1,>=0.3.0 in c:\\users\\dell\\anaconda3\\envs\\kidney\\lib\\site-packages (from dvc) (0.40.2)\n",
      "Requirement already satisfied: flatten_dict<1,>=0.4.1 in c:\\users\\dell\\anaconda3\\envs\\kidney\\lib\\site-packages (from dvc) (0.4.2)\n",
      "Requirement already satisfied: flufl.lock<9,>=8.1.0 in c:\\users\\dell\\anaconda3\\envs\\kidney\\lib\\site-packages (from dvc) (8.1.0)\n",
      "Requirement already satisfied: fsspec>=2024.2.0 in c:\\users\\dell\\anaconda3\\envs\\kidney\\lib\\site-packages (from dvc) (2025.3.2)\n",
      "Requirement already satisfied: funcy>=1.14 in c:\\users\\dell\\anaconda3\\envs\\kidney\\lib\\site-packages (from dvc) (2.0)\n",
      "Requirement already satisfied: grandalf<1,>=0.7 in c:\\users\\dell\\anaconda3\\envs\\kidney\\lib\\site-packages (from dvc) (0.8)\n",
      "Requirement already satisfied: gto<2,>=1.6.0 in c:\\users\\dell\\anaconda3\\envs\\kidney\\lib\\site-packages (from dvc) (1.7.2)\n",
      "Requirement already satisfied: hydra-core>=1.1 in c:\\users\\dell\\anaconda3\\envs\\kidney\\lib\\site-packages (from dvc) (1.3.2)\n",
      "Requirement already satisfied: iterative-telemetry>=0.0.7 in c:\\users\\dell\\anaconda3\\envs\\kidney\\lib\\site-packages (from dvc) (0.0.10)\n",
      "Requirement already satisfied: kombu in c:\\users\\dell\\anaconda3\\envs\\kidney\\lib\\site-packages (from dvc) (5.5.3)\n",
      "Requirement already satisfied: networkx>=2.5 in c:\\users\\dell\\anaconda3\\envs\\kidney\\lib\\site-packages (from dvc) (3.4.2)\n",
      "Requirement already satisfied: omegaconf in c:\\users\\dell\\anaconda3\\envs\\kidney\\lib\\site-packages (from dvc) (2.3.0)\n",
      "Requirement already satisfied: packaging>=19 in c:\\users\\dell\\anaconda3\\envs\\kidney\\lib\\site-packages (from dvc) (24.2)\n",
      "Requirement already satisfied: pathspec>=0.10.3 in c:\\users\\dell\\anaconda3\\envs\\kidney\\lib\\site-packages (from dvc) (0.12.1)\n",
      "Requirement already satisfied: platformdirs<5,>=3.1.1 in c:\\users\\dell\\anaconda3\\envs\\kidney\\lib\\site-packages (from dvc) (4.3.7)\n",
      "Requirement already satisfied: psutil>=5.8 in c:\\users\\dell\\anaconda3\\envs\\kidney\\lib\\site-packages (from dvc) (7.0.0)\n",
      "Requirement already satisfied: pydot>=1.2.4 in c:\\users\\dell\\anaconda3\\envs\\kidney\\lib\\site-packages (from dvc) (3.0.4)\n",
      "Requirement already satisfied: pygtrie>=2.3.2 in c:\\users\\dell\\anaconda3\\envs\\kidney\\lib\\site-packages (from dvc) (2.5.0)\n",
      "Requirement already satisfied: pyparsing>=2.4.7 in c:\\users\\dell\\anaconda3\\envs\\kidney\\lib\\site-packages (from dvc) (3.2.3)\n",
      "Requirement already satisfied: requests>=2.22 in c:\\users\\dell\\anaconda3\\envs\\kidney\\lib\\site-packages (from dvc) (2.32.3)\n",
      "Requirement already satisfied: rich>=12 in c:\\users\\dell\\anaconda3\\envs\\kidney\\lib\\site-packages (from dvc) (14.0.0)\n",
      "Requirement already satisfied: ruamel.yaml>=0.17.11 in c:\\users\\dell\\anaconda3\\envs\\kidney\\lib\\site-packages (from dvc) (0.18.10)\n",
      "Requirement already satisfied: scmrepo<4,>=3.3.8 in c:\\users\\dell\\anaconda3\\envs\\kidney\\lib\\site-packages (from dvc) (3.3.11)\n",
      "Requirement already satisfied: shortuuid>=0.5 in c:\\users\\dell\\anaconda3\\envs\\kidney\\lib\\site-packages (from dvc) (1.0.13)\n",
      "Requirement already satisfied: shtab<2,>=1.3.4 in c:\\users\\dell\\anaconda3\\envs\\kidney\\lib\\site-packages (from dvc) (1.7.2)\n",
      "Requirement already satisfied: tabulate>=0.8.7 in c:\\users\\dell\\anaconda3\\envs\\kidney\\lib\\site-packages (from dvc) (0.9.0)\n",
      "Requirement already satisfied: tomlkit>=0.11.1 in c:\\users\\dell\\anaconda3\\envs\\kidney\\lib\\site-packages (from dvc) (0.13.2)\n",
      "Requirement already satisfied: tqdm<5,>=4.63.1 in c:\\users\\dell\\anaconda3\\envs\\kidney\\lib\\site-packages (from dvc) (4.67.1)\n",
      "Requirement already satisfied: voluptuous>=0.11.7 in c:\\users\\dell\\anaconda3\\envs\\kidney\\lib\\site-packages (from dvc) (0.15.2)\n",
      "Requirement already satisfied: zc.lockfile>=1.2.1 in c:\\users\\dell\\anaconda3\\envs\\kidney\\lib\\site-packages (from dvc) (3.0.post1)\n",
      "Requirement already satisfied: dictdiffer>=0.8.1 in c:\\users\\dell\\anaconda3\\envs\\kidney\\lib\\site-packages (from dvc-data<3.17,>=3.16.2->dvc) (0.9.0)\n",
      "Requirement already satisfied: diskcache>=5.2.1 in c:\\users\\dell\\anaconda3\\envs\\kidney\\lib\\site-packages (from dvc-data<3.17,>=3.16.2->dvc) (5.6.3)\n",
      "Requirement already satisfied: sqltrie<1,>=0.11.0 in c:\\users\\dell\\anaconda3\\envs\\kidney\\lib\\site-packages (from dvc-data<3.17,>=3.16.2->dvc) (0.11.2)\n",
      "Requirement already satisfied: orjson<4,>=3 in c:\\users\\dell\\anaconda3\\envs\\kidney\\lib\\site-packages (from dvc-data<3.17,>=3.16.2->dvc) (3.10.18)\n",
      "Requirement already satisfied: aiohttp-retry>=2.5.0 in c:\\users\\dell\\anaconda3\\envs\\kidney\\lib\\site-packages (from dvc-http>=2.29.0->dvc) (2.9.1)\n",
      "Requirement already satisfied: pywin32>=225 in c:\\users\\dell\\anaconda3\\envs\\kidney\\lib\\site-packages (from dvc-task<1,>=0.3.0->dvc) (310)\n",
      "Requirement already satisfied: billiard<5.0,>=4.2.1 in c:\\users\\dell\\anaconda3\\envs\\kidney\\lib\\site-packages (from celery->dvc) (4.2.1)\n",
      "Requirement already satisfied: vine<6.0,>=5.1.0 in c:\\users\\dell\\anaconda3\\envs\\kidney\\lib\\site-packages (from celery->dvc) (5.1.0)\n",
      "Requirement already satisfied: click<9.0,>=8.1.2 in c:\\users\\dell\\anaconda3\\envs\\kidney\\lib\\site-packages (from celery->dvc) (8.1.8)\n",
      "Requirement already satisfied: click-didyoumean>=0.3.0 in c:\\users\\dell\\anaconda3\\envs\\kidney\\lib\\site-packages (from celery->dvc) (0.3.1)\n",
      "Requirement already satisfied: click-repl>=0.2.0 in c:\\users\\dell\\anaconda3\\envs\\kidney\\lib\\site-packages (from celery->dvc) (0.3.0)\n",
      "Requirement already satisfied: click-plugins>=1.1.1 in c:\\users\\dell\\anaconda3\\envs\\kidney\\lib\\site-packages (from celery->dvc) (1.1.1)\n",
      "Requirement already satisfied: python-dateutil>=2.8.2 in c:\\users\\dell\\anaconda3\\envs\\kidney\\lib\\site-packages (from celery->dvc) (2.9.0.post0)\n",
      "Requirement already satisfied: six<2.0,>=1.12 in c:\\users\\dell\\anaconda3\\envs\\kidney\\lib\\site-packages (from flatten_dict<1,>=0.4.1->dvc) (1.17.0)\n",
      "Requirement already satisfied: atpublic in c:\\users\\dell\\anaconda3\\envs\\kidney\\lib\\site-packages (from flufl.lock<9,>=8.1.0->dvc) (5.1)\n",
      "Requirement already satisfied: entrypoints in c:\\users\\dell\\anaconda3\\envs\\kidney\\lib\\site-packages (from gto<2,>=1.6.0->dvc) (0.4)\n",
      "Requirement already satisfied: pydantic!=2.0.0,<3,>=1.9.0 in c:\\users\\dell\\anaconda3\\envs\\kidney\\lib\\site-packages (from gto<2,>=1.6.0->dvc) (2.11.4)\n",
      "Requirement already satisfied: semver>=2.13.0 in c:\\users\\dell\\anaconda3\\envs\\kidney\\lib\\site-packages (from gto<2,>=1.6.0->dvc) (3.0.4)\n",
      "Requirement already satisfied: typer>=0.4.1 in c:\\users\\dell\\anaconda3\\envs\\kidney\\lib\\site-packages (from gto<2,>=1.6.0->dvc) (0.15.3)\n",
      "Requirement already satisfied: antlr4-python3-runtime==4.9.* in c:\\users\\dell\\anaconda3\\envs\\kidney\\lib\\site-packages (from hydra-core>=1.1->dvc) (4.9.3)\n",
      "Requirement already satisfied: appdirs in c:\\users\\dell\\anaconda3\\envs\\kidney\\lib\\site-packages (from iterative-telemetry>=0.0.7->dvc) (1.4.4)\n",
      "Requirement already satisfied: filelock in c:\\users\\dell\\anaconda3\\envs\\kidney\\lib\\site-packages (from iterative-telemetry>=0.0.7->dvc) (3.18.0)\n",
      "Requirement already satisfied: amqp<6.0.0,>=5.1.1 in c:\\users\\dell\\anaconda3\\envs\\kidney\\lib\\site-packages (from kombu->dvc) (5.3.1)\n",
      "Requirement already satisfied: tzdata>=2025.2 in c:\\users\\dell\\anaconda3\\envs\\kidney\\lib\\site-packages (from kombu->dvc) (2025.2)\n",
      "Requirement already satisfied: PyYAML>=5.1.0 in c:\\users\\dell\\anaconda3\\envs\\kidney\\lib\\site-packages (from omegaconf->dvc) (6.0.2)\n",
      "Requirement already satisfied: charset-normalizer<4,>=2 in c:\\users\\dell\\anaconda3\\envs\\kidney\\lib\\site-packages (from requests>=2.22->dvc) (3.4.1)\n",
      "Requirement already satisfied: idna<4,>=2.5 in c:\\users\\dell\\anaconda3\\envs\\kidney\\lib\\site-packages (from requests>=2.22->dvc) (3.10)\n",
      "Requirement already satisfied: urllib3<3,>=1.21.1 in c:\\users\\dell\\anaconda3\\envs\\kidney\\lib\\site-packages (from requests>=2.22->dvc) (2.4.0)\n",
      "Requirement already satisfied: certifi>=2017.4.17 in c:\\users\\dell\\anaconda3\\envs\\kidney\\lib\\site-packages (from requests>=2.22->dvc) (2025.4.26)\n",
      "Requirement already satisfied: markdown-it-py>=2.2.0 in c:\\users\\dell\\anaconda3\\envs\\kidney\\lib\\site-packages (from rich>=12->dvc) (3.0.0)\n",
      "Requirement already satisfied: pygments<3.0.0,>=2.13.0 in c:\\users\\dell\\anaconda3\\envs\\kidney\\lib\\site-packages (from rich>=12->dvc) (2.19.1)\n",
      "Requirement already satisfied: ruamel.yaml.clib>=0.2.7 in c:\\users\\dell\\anaconda3\\envs\\kidney\\lib\\site-packages (from ruamel.yaml>=0.17.11->dvc) (0.2.12)\n",
      "Requirement already satisfied: gitpython>3 in c:\\users\\dell\\anaconda3\\envs\\kidney\\lib\\site-packages (from scmrepo<4,>=3.3.8->dvc) (3.1.44)\n",
      "Requirement already satisfied: pygit2>=1.14.0 in c:\\users\\dell\\anaconda3\\envs\\kidney\\lib\\site-packages (from scmrepo<4,>=3.3.8->dvc) (1.18.0)\n",
      "Requirement already satisfied: asyncssh<3,>=2.13.1 in c:\\users\\dell\\anaconda3\\envs\\kidney\\lib\\site-packages (from scmrepo<4,>=3.3.8->dvc) (2.20.0)\n",
      "Requirement already satisfied: setuptools in c:\\users\\dell\\anaconda3\\envs\\kidney\\lib\\site-packages (from zc.lockfile>=1.2.1->dvc) (75.8.0)\n",
      "Requirement already satisfied: aiohttp in c:\\users\\dell\\anaconda3\\envs\\kidney\\lib\\site-packages (from aiohttp-retry>=2.5.0->dvc-http>=2.29.0->dvc) (3.11.18)\n",
      "Requirement already satisfied: cryptography>=39.0 in c:\\users\\dell\\anaconda3\\envs\\kidney\\lib\\site-packages (from asyncssh<3,>=2.13.1->scmrepo<4,>=3.3.8->dvc) (44.0.2)\n",
      "Requirement already satisfied: typing_extensions>=4.0.0 in c:\\users\\dell\\anaconda3\\envs\\kidney\\lib\\site-packages (from asyncssh<3,>=2.13.1->scmrepo<4,>=3.3.8->dvc) (4.13.2)\n",
      "Requirement already satisfied: prompt-toolkit>=3.0.36 in c:\\users\\dell\\anaconda3\\envs\\kidney\\lib\\site-packages (from click-repl>=0.2.0->celery->dvc) (3.0.51)\n",
      "Requirement already satisfied: gitdb<5,>=4.0.1 in c:\\users\\dell\\anaconda3\\envs\\kidney\\lib\\site-packages (from gitpython>3->scmrepo<4,>=3.3.8->dvc) (4.0.12)\n",
      "Requirement already satisfied: mdurl~=0.1 in c:\\users\\dell\\anaconda3\\envs\\kidney\\lib\\site-packages (from markdown-it-py>=2.2.0->rich>=12->dvc) (0.1.2)\n",
      "Requirement already satisfied: annotated-types>=0.6.0 in c:\\users\\dell\\anaconda3\\envs\\kidney\\lib\\site-packages (from pydantic!=2.0.0,<3,>=1.9.0->gto<2,>=1.6.0->dvc) (0.7.0)\n",
      "Requirement already satisfied: pydantic-core==2.33.2 in c:\\users\\dell\\anaconda3\\envs\\kidney\\lib\\site-packages (from pydantic!=2.0.0,<3,>=1.9.0->gto<2,>=1.6.0->dvc) (2.33.2)\n",
      "Requirement already satisfied: typing-inspection>=0.4.0 in c:\\users\\dell\\anaconda3\\envs\\kidney\\lib\\site-packages (from pydantic!=2.0.0,<3,>=1.9.0->gto<2,>=1.6.0->dvc) (0.4.0)\n",
      "Requirement already satisfied: cffi>=1.17.0 in c:\\users\\dell\\anaconda3\\envs\\kidney\\lib\\site-packages (from pygit2>=1.14.0->scmrepo<4,>=3.3.8->dvc) (1.17.1)\n",
      "Requirement already satisfied: shellingham>=1.3.0 in c:\\users\\dell\\anaconda3\\envs\\kidney\\lib\\site-packages (from typer>=0.4.1->gto<2,>=1.6.0->dvc) (1.5.4)\n",
      "Requirement already satisfied: aiohappyeyeballs>=2.3.0 in c:\\users\\dell\\anaconda3\\envs\\kidney\\lib\\site-packages (from aiohttp->aiohttp-retry>=2.5.0->dvc-http>=2.29.0->dvc) (2.6.1)\n",
      "Requirement already satisfied: aiosignal>=1.1.2 in c:\\users\\dell\\anaconda3\\envs\\kidney\\lib\\site-packages (from aiohttp->aiohttp-retry>=2.5.0->dvc-http>=2.29.0->dvc) (1.3.2)\n",
      "Requirement already satisfied: frozenlist>=1.1.1 in c:\\users\\dell\\anaconda3\\envs\\kidney\\lib\\site-packages (from aiohttp->aiohttp-retry>=2.5.0->dvc-http>=2.29.0->dvc) (1.6.0)\n",
      "Requirement already satisfied: multidict<7.0,>=4.5 in c:\\users\\dell\\anaconda3\\envs\\kidney\\lib\\site-packages (from aiohttp->aiohttp-retry>=2.5.0->dvc-http>=2.29.0->dvc) (6.4.3)\n",
      "Requirement already satisfied: propcache>=0.2.0 in c:\\users\\dell\\anaconda3\\envs\\kidney\\lib\\site-packages (from aiohttp->aiohttp-retry>=2.5.0->dvc-http>=2.29.0->dvc) (0.3.1)\n",
      "Requirement already satisfied: yarl<2.0,>=1.17.0 in c:\\users\\dell\\anaconda3\\envs\\kidney\\lib\\site-packages (from aiohttp->aiohttp-retry>=2.5.0->dvc-http>=2.29.0->dvc) (1.20.0)\n",
      "Requirement already satisfied: pycparser in c:\\users\\dell\\anaconda3\\envs\\kidney\\lib\\site-packages (from cffi>=1.17.0->pygit2>=1.14.0->scmrepo<4,>=3.3.8->dvc) (2.22)\n",
      "Requirement already satisfied: smmap<6,>=3.0.1 in c:\\users\\dell\\anaconda3\\envs\\kidney\\lib\\site-packages (from gitdb<5,>=4.0.1->gitpython>3->scmrepo<4,>=3.3.8->dvc) (5.0.2)\n",
      "Requirement already satisfied: wcwidth in c:\\users\\dell\\anaconda3\\envs\\kidney\\lib\\site-packages (from prompt-toolkit>=3.0.36->click-repl>=0.2.0->celery->dvc) (0.2.13)\n"
     ]
    }
   ],
   "source": [
    "!pip install dvc"
   ]
  },
  {
   "cell_type": "code",
   "execution_count": null,
   "id": "7fd256fe",
   "metadata": {},
   "outputs": [],
   "source": []
  }
 ],
 "metadata": {
  "kernelspec": {
   "display_name": "kidney",
   "language": "python",
   "name": "python3"
  },
  "language_info": {
   "codemirror_mode": {
    "name": "ipython",
    "version": 3
   },
   "file_extension": ".py",
   "mimetype": "text/x-python",
   "name": "python",
   "nbconvert_exporter": "python",
   "pygments_lexer": "ipython3",
   "version": "3.12.9"
  }
 },
 "nbformat": 4,
 "nbformat_minor": 5
}
